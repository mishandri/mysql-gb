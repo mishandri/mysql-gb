{
 "cells": [
  {
   "cell_type": "markdown",
   "metadata": {},
   "source": [
    "## 03. Операции CRUD\n",
    "\n",
    "| CRUD             | SQL    |\n",
    "| ---------------- | ------ |\n",
    "| **C**reate | INSERT |\n",
    "| **R**ead   | SELECT |\n",
    "| **U**pdate | UPDATE |\n",
    "| **D**elete | DELETE |"
   ]
  },
  {
   "cell_type": "markdown",
   "metadata": {},
   "source": [
    "**Создание значений**"
   ]
  },
  {
   "cell_type": "code",
   "execution_count": null,
   "metadata": {
    "vscode": {
     "languageId": "sql"
    }
   },
   "outputs": [],
   "source": [
    "INSERT INTO catalogs (name) VALUES ('Процессоры');\n",
    "INSERT INTO catalogs (name) VALUES ('Мат.платы');\n",
    "INSERT INTO catalogs (name) VALUES ('Видеокарты');"
   ]
  },
  {
   "cell_type": "markdown",
   "metadata": {},
   "source": [
    "Многострочная вставка"
   ]
  },
  {
   "cell_type": "code",
   "execution_count": null,
   "metadata": {
    "vscode": {
     "languageId": "sql"
    }
   },
   "outputs": [],
   "source": [
    "INSERT INTO catalogs VALUES\n",
    "\t(NULL, 'Процессоры'),\n",
    "\t(NULL, 'Мат.платы'),\n",
    "\t(NULL, 'Видеокарты');"
   ]
  },
  {
   "cell_type": "markdown",
   "metadata": {},
   "source": [
    "Если нужно, чтобы не было повторяющихся значений в столбце, то можно сделать егшо уникальным."
   ]
  },
  {
   "cell_type": "code",
   "execution_count": null,
   "metadata": {
    "vscode": {
     "languageId": "sql"
    }
   },
   "outputs": [],
   "source": [
    "CREATE TABLE catalogs (\n",
    "\t...\n",
    "\tUNIQUE unique_name(name(10))\n",
    ")"
   ]
  },
  {
   "cell_type": "markdown",
   "metadata": {},
   "source": [
    "В этом случае при добавлении уже имеющегося значения, появится ошибка. Ошибку можно игнорировать:"
   ]
  },
  {
   "cell_type": "code",
   "execution_count": null,
   "metadata": {
    "vscode": {
     "languageId": "sql"
    }
   },
   "outputs": [],
   "source": [
    "INSERT IGNORE INTO catalogs VALUES \n",
    "\t(DEFAULT, 'Процессоры'),\n",
    "\t(DEFAULT, 'Мат.платы'),\n",
    "\t(DEFAULT, 'Видеокарты'),\n",
    "\t(DEFAULT, 'Видеокарты');"
   ]
  },
  {
   "cell_type": "markdown",
   "metadata": {},
   "source": [
    "**Чтение значений**"
   ]
  },
  {
   "cell_type": "code",
   "execution_count": null,
   "metadata": {
    "vscode": {
     "languageId": "sql"
    }
   },
   "outputs": [],
   "source": [
    "SELECT id, name FROM catalogs;\n",
    "SELECT name FROM catalogs;\n",
    "SELECT * FROM catalogs;"
   ]
  },
  {
   "cell_type": "markdown",
   "metadata": {},
   "source": [
    "**Удаление значений**"
   ]
  },
  {
   "cell_type": "markdown",
   "metadata": {},
   "source": [
    "Удаление данных. Счётчик автоинкремента не обнуляется"
   ]
  },
  {
   "cell_type": "code",
   "execution_count": null,
   "metadata": {
    "vscode": {
     "languageId": "sql"
    }
   },
   "outputs": [],
   "source": [
    "DELETE FROM catalogs; -- удаляет все записи\n",
    "DELETE FROM catalogs LIMIT 2; -- удаляет первые записи\n",
    "DELETE FROM catalogs WHERE id > 1; -- удаляет записи, id которых больше 1\n",
    "DELETE FROM catalogs WHERE id > 1 LIMIT 1; -- удаляет одну запись, id которой больше 1"
   ]
  },
  {
   "cell_type": "markdown",
   "metadata": {},
   "source": [
    "Очистка всей таблицы и обнуление счётчика автоинкримента"
   ]
  },
  {
   "cell_type": "code",
   "execution_count": null,
   "metadata": {
    "vscode": {
     "languageId": "sql"
    }
   },
   "outputs": [],
   "source": [
    "TURNCATE catalogs;"
   ]
  },
  {
   "cell_type": "markdown",
   "metadata": {},
   "source": [
    "**Обновление значений**"
   ]
  },
  {
   "cell_type": "code",
   "execution_count": null,
   "metadata": {
    "vscode": {
     "languageId": "sql"
    }
   },
   "outputs": [],
   "source": [
    "UPDATE\n",
    "  catalogs\n",
    "SET\n",
    "  name = 'Процессоры (Intel)'\n",
    "WHERE\n",
    "  name = 'Процессоры'"
   ]
  },
  {
   "cell_type": "markdown",
   "metadata": {},
   "source": [
    "**INSERT-SELECT**"
   ]
  },
  {
   "cell_type": "code",
   "execution_count": null,
   "metadata": {
    "vscode": {
     "languageId": "sql"
    }
   },
   "outputs": [],
   "source": [
    "INSERT INTO\n",
    "  cat\n",
    "SELECT\n",
    "  *\n",
    "FROM\n",
    "  catalogs;\n",
    "\n",
    "SELECT * FROM cat;"
   ]
  }
 ],
 "metadata": {
  "kernelspec": {
   "display_name": "Python 3",
   "language": "python",
   "name": "python3"
  },
  "language_info": {
   "codemirror_mode": {
    "name": "ipython",
    "version": 3
   },
   "file_extension": ".py",
   "mimetype": "text/x-python",
   "name": "python",
   "nbconvert_exporter": "python",
   "pygments_lexer": "ipython3",
   "version": "3.11.4"
  },
  "orig_nbformat": 4
 },
 "nbformat": 4,
 "nbformat_minor": 2
}
