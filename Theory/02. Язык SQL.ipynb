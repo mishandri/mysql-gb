{
 "cells": [
  {
   "cell_type": "markdown",
   "metadata": {},
   "source": [
    "## 02. Язык SQL\n",
    "\n",
    "SQL - Structured Query Language"
   ]
  },
  {
   "cell_type": "markdown",
   "metadata": {},
   "source": [
    "### Достоинства SQL\n",
    "\n",
    "* Декларативый язык. Описываем цель, а не инструкцию алгоритма;\n",
    "* Высокоуровнева структура, напоминающая естественный язык;\n",
    "* Высокая эффективность обработки множеств;\n",
    "* Независимость от конкретных СУБД;\n",
    "* Межплатформенная переносимость;\n",
    "* Наличие стандартов."
   ]
  },
  {
   "cell_type": "markdown",
   "metadata": {},
   "source": [
    "### Недостатки SQL\n",
    "\n",
    "* Слабоструктурированный язык;\n",
    "* Старый язык. С современной точки зрения он не очень удобен;\n",
    "* Плохое взаимодействие с ООП-языками;\n",
    "* Не универсальный язык. Нельзя создать независимую программу;\n",
    "* Множество диалектов."
   ]
  },
  {
   "cell_type": "markdown",
   "metadata": {},
   "source": [
    "### Элементы языка\n",
    "\n",
    "* Коментарии\n",
    "* Скалярные выражения (константы)\n",
    "* Ключевые слова\n",
    "* Операторы\n",
    "* Таблицы\n",
    "* Столбцы\n",
    "* Индексы\n",
    "* Предопределенные функции\n",
    "* Представления\n",
    "* Переменные\n",
    "* Хранимые процедуры\n",
    "* Хранимые функции\n",
    "* Триггеры\n",
    "* Коды ошибок"
   ]
  },
  {
   "cell_type": "markdown",
   "metadata": {},
   "source": [
    "### Коментарии"
   ]
  },
  {
   "cell_type": "markdown",
   "metadata": {},
   "source": [
    "Однострочные"
   ]
  },
  {
   "cell_type": "code",
   "execution_count": null,
   "metadata": {
    "vscode": {
     "languageId": "sql"
    }
   },
   "outputs": [],
   "source": [
    "-- Это однострочный комментарий"
   ]
  },
  {
   "cell_type": "markdown",
   "metadata": {},
   "source": [
    "Многострочные"
   ]
  },
  {
   "cell_type": "code",
   "execution_count": null,
   "metadata": {
    "vscode": {
     "languageId": "sql"
    }
   },
   "outputs": [],
   "source": [
    "/* Многострочный\n",
    "комментарий */"
   ]
  },
  {
   "cell_type": "markdown",
   "metadata": {},
   "source": [
    "### Инструкции\n",
    "\n",
    "**DDL (Data Definition Language)** - язык описания данных. Инфструкции создания, редактирования и удаления БД и таблиц. Опреаторы, позволяющие воссоздать структуру БД.\n",
    "\n",
    "**DML (Data Manipulation Language)** - язык управления данными. Инфструкции создания, редактирования, удаления и извлечения данных из таблиц. Операторы, обслуживающие данные, хранящиеся в БД.\n",
    "\n",
    "Каждая инструкция начинается с ключевого слова, которая описывает выполняемые дейтсвия."
   ]
  },
  {
   "cell_type": "markdown",
   "metadata": {},
   "source": [
    "### Типы данных\n",
    "\n",
    "Тип данных определяет характеристики значений и количество памяти, выделяемой под хранение.\n",
    "\n",
    "* Числовые\n",
    "* Строковые\n",
    "* NULL\n",
    "* Календарные\n",
    "* Коллекции"
   ]
  },
  {
   "cell_type": "markdown",
   "metadata": {},
   "source": [
    "Типы могут сопровождаться дополнительными атрибутами, которые задают ограничение на столбец:\n",
    "\n",
    "* NULL (позволяет неопределенные значения) или NOT NULL (запрещает неопределенные значения)\n",
    "* DEFAULT (позволяет задать значение по умолчанию)\n",
    "* UNSIGNED (беззнаковое числовое поле)"
   ]
  },
  {
   "cell_type": "markdown",
   "metadata": {},
   "source": [
    "**Числовые типы:**\n",
    "\n",
    "* Целочисленные (быстрая обработка) TINYINT (1 байт), SMALLINT (2 байта), MEDIUMINT (3 байта), INT (4 байта), BIGINT (8 байт)\n",
    "* Вещественные (средняя обработка) FLOAT (4 байта), DOUBLE (8 байт)\n",
    "* Точные (медленная обработка) DECIMAL (зависит от объявления). DECIMAL(7,4) 7 байт под целую часть, 4 байта под дробную часть"
   ]
  },
  {
   "cell_type": "markdown",
   "metadata": {},
   "source": [
    "**Строковые типы:**\n",
    "\n",
    "* Фиксированные CHAR (40 символов по умолчанию)\n",
    "* Переменные VARCHAR (ровно по количеству символов)\n",
    "* BLOB-строка TINYTEXT (256 символов), TEXT (65536 символов), MEDIUMTEXT (16777216/16МБ), LONGTEXT (4294967296/4ГБ)"
   ]
  },
  {
   "cell_type": "markdown",
   "metadata": {},
   "source": [
    "**Календарные типы:**\n",
    "\n",
    "* TIME - хранение времени в течении суток\n",
    "* YEAR - хранит год\n",
    "* DATE - хранит дату с точностью до дня\n",
    "* DATETIME - хранит дату и время\n",
    "* TIMESTAMP - хранит дату и время (1970 - 2038)"
   ]
  },
  {
   "cell_type": "markdown",
   "metadata": {},
   "source": [
    "| Тип    | Формат          | Кол-во байт |\n",
    "| --------- | --------------------- | -------------------- |\n",
    "| YEAR      | 0000                  | 1                    |\n",
    "| DATE      | '0000-00-00'          | 3                    |\n",
    "| TIME      | '00:00:00'            | 3                    |\n",
    "| DATETIME  | '0000-00-00 00:00:00' | 4                    |\n",
    "| TIMESTAMP | '0000-00-00 00:00:00' | 8                    |"
   ]
  },
  {
   "cell_type": "markdown",
   "metadata": {},
   "source": [
    "**Особые типы данных**\n",
    "\n",
    "* ENUM - поле принимает одно значение из списка\n",
    "* SET - поле принимает комбинацию значений из списка\n",
    "* JSON - коллекция данных (похожи на словари python)"
   ]
  },
  {
   "cell_type": "markdown",
   "metadata": {},
   "source": [
    "**Индексы**\n",
    "\n",
    "* Обычные\n",
    "* Уникальные, первичный ключ\n",
    "* Полнотекстовый"
   ]
  },
  {
   "cell_type": "markdown",
   "metadata": {},
   "source": [
    "Создать индекс внутри таблицы:"
   ]
  },
  {
   "cell_type": "code",
   "execution_count": null,
   "metadata": {
    "vscode": {
     "languageId": "sql"
    }
   },
   "outputs": [],
   "source": [
    "CREATE TABLE products (\n",
    "    ...\n",
    "    KEY index_of_catalog_id(catalog_id);\n",
    ")"
   ]
  },
  {
   "cell_type": "markdown",
   "metadata": {},
   "source": [
    "Создать индексы в уже существующую таблицу:"
   ]
  },
  {
   "cell_type": "code",
   "execution_count": null,
   "metadata": {
    "vscode": {
     "languageId": "sql"
    }
   },
   "outputs": [],
   "source": [
    "CREATE INDEX index_of_catalog_id ON \n",
    "products(catalog_id);"
   ]
  },
  {
   "cell_type": "markdown",
   "metadata": {},
   "source": [
    "Убрать индексы из таблицы:"
   ]
  },
  {
   "cell_type": "code",
   "execution_count": null,
   "metadata": {
    "vscode": {
     "languageId": "sql"
    }
   },
   "outputs": [],
   "source": [
    "DROP INDEX index_of_catalog_id ON \n",
    "products;"
   ]
  },
  {
   "cell_type": "markdown",
   "metadata": {},
   "source": [
    "Индексы BTREE - индекы в виде бинарного дерева. Быстрый поиск."
   ]
  },
  {
   "cell_type": "code",
   "execution_count": null,
   "metadata": {
    "vscode": {
     "languageId": "sql"
    }
   },
   "outputs": [],
   "source": [
    "CREATE INDEX index_of_catalog_id \n",
    "USING BTREE ON products(catalog_id);"
   ]
  },
  {
   "cell_type": "markdown",
   "metadata": {},
   "source": [
    "Индексы HASH - только для точного поиска с указанием всех столбцов-индексов."
   ]
  },
  {
   "cell_type": "code",
   "execution_count": null,
   "metadata": {
    "vscode": {
     "languageId": "sql"
    }
   },
   "outputs": [],
   "source": [
    "CREATE INDEX index_of_catalog_id \n",
    "USING HASH ON products(catalog_id);"
   ]
  },
  {
   "cell_type": "markdown",
   "metadata": {},
   "source": [
    "**Псевдотип SERIAL**\n",
    "\n",
    "SERIAL == BIGINT UNSIGNED NOT NULL AUTO_INCREMENT UNIQUE"
   ]
  }
 ],
 "metadata": {
  "kernelspec": {
   "display_name": "Python 3",
   "language": "python",
   "name": "python3"
  },
  "language_info": {
   "codemirror_mode": {
    "name": "ipython",
    "version": 3
   },
   "file_extension": ".py",
   "mimetype": "text/x-python",
   "name": "python",
   "nbconvert_exporter": "python",
   "pygments_lexer": "ipython3",
   "version": "3.11.4"
  },
  "orig_nbformat": 4
 },
 "nbformat": 4,
 "nbformat_minor": 2
}
