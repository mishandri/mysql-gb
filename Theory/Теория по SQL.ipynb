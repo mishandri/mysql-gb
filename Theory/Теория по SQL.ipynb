{
 "cells": [
  {
   "cell_type": "markdown",
   "metadata": {},
   "source": [
    "# 01. Основы SQL"
   ]
  },
  {
   "cell_type": "markdown",
   "metadata": {},
   "source": [
    "### Подключение"
   ]
  },
  {
   "cell_type": "markdown",
   "metadata": {},
   "source": [
    "Подключение к mysql на самом сервере. Параметр u отвечает за имя пользователя, p - запрос пароль."
   ]
  },
  {
   "cell_type": "code",
   "execution_count": null,
   "metadata": {
    "vscode": {
     "languageId": "shellscript"
    }
   },
   "outputs": [],
   "source": [
    "mysql -u root -p"
   ]
  },
  {
   "cell_type": "markdown",
   "metadata": {},
   "source": [
    "Подключение к mysql с другого компьютера. Параметр h указывает сервер, P - порт."
   ]
  },
  {
   "cell_type": "code",
   "execution_count": null,
   "metadata": {
    "vscode": {
     "languageId": "shellscript"
    }
   },
   "outputs": [],
   "source": [
    "mysql -u root -h 192.168.1.36-P 3306-p"
   ]
  },
  {
   "cell_type": "markdown",
   "metadata": {},
   "source": [
    "### Команды mysql"
   ]
  },
  {
   "cell_type": "code",
   "execution_count": null,
   "metadata": {
    "vscode": {
     "languageId": "sql"
    }
   },
   "outputs": [],
   "source": [
    "USE     \\u  -- Выбор БД\n",
    "SOURCE  \\.  -- Выполнение SQL-команд из файла\n",
    "SYSTEM  \\!  -- Выполнение команды ОС\n",
    "STATUS  \\s  -- Вывод информации о состоянии сервера\n",
    "EXIT    \\q  -- выход\n",
    "\\G  -- Вывод информации в вертикальном формате. Только для самого клиента mysql, а не других программ"
   ]
  },
  {
   "cell_type": "markdown",
   "metadata": {},
   "source": [
    "### Создание дампа для бэкапа"
   ]
  },
  {
   "cell_type": "code",
   "execution_count": null,
   "metadata": {
    "vscode": {
     "languageId": "shellscript"
    }
   },
   "outputs": [],
   "source": [
    "mysqldump -u root -p mysql > mysql.sql"
   ]
  },
  {
   "cell_type": "markdown",
   "metadata": {},
   "source": [
    "### Восстановление дампа"
   ]
  },
  {
   "cell_type": "code",
   "execution_count": null,
   "metadata": {
    "vscode": {
     "languageId": "shellscript"
    }
   },
   "outputs": [],
   "source": [
    "mysql -u root -p mysql \n",
    "mysql -u root -p sample D:\\example.sql\n",
    "mysql -u root -p sample < example.sql"
   ]
  },
  {
   "cell_type": "markdown",
   "metadata": {},
   "source": [
    "Чтобы не вводить каждый раз пользователя и пароль, можно создать файл `.my.cnf` в папке запуска (домашней папке)"
   ]
  },
  {
   "cell_type": "markdown",
   "metadata": {},
   "source": [
    "### Настройка подключения"
   ]
  },
  {
   "cell_type": "markdown",
   "metadata": {},
   "source": [
    "Для подключения самого mysql:"
   ]
  },
  {
   "cell_type": "code",
   "execution_count": null,
   "metadata": {
    "vscode": {
     "languageId": "shellscript"
    }
   },
   "outputs": [],
   "source": [
    "[mysql]\n",
    "user=root\n",
    "password=1234"
   ]
  },
  {
   "cell_type": "markdown",
   "metadata": {},
   "source": [
    "Если нужно оставить пароль внутри, то надо ограничить доступ, оставить только для текущего пользователя: `chmod 0600 ~/.my.cnf`"
   ]
  },
  {
   "cell_type": "markdown",
   "metadata": {},
   "source": [
    "Для подключения всех клиентов скинуть в C:\\Windows файл следующего содержания:"
   ]
  },
  {
   "cell_type": "code",
   "execution_count": null,
   "metadata": {
    "vscode": {
     "languageId": "shellscript"
    }
   },
   "outputs": [],
   "source": [
    "[client]\n",
    "user=root\n",
    "password=1234"
   ]
  },
  {
   "cell_type": "markdown",
   "metadata": {},
   "source": [
    "### Основные команды с БД"
   ]
  },
  {
   "cell_type": "markdown",
   "metadata": {},
   "source": [
    "Просмотр всех БД"
   ]
  },
  {
   "cell_type": "code",
   "execution_count": null,
   "metadata": {
    "vscode": {
     "languageId": "sql"
    }
   },
   "outputs": [],
   "source": [
    "-- Active: 1694072071425@@localhost@3306@shop\n",
    "SHOW DATABASES;"
   ]
  },
  {
   "cell_type": "markdown",
   "metadata": {},
   "source": [
    "Создание БД"
   ]
  },
  {
   "cell_type": "code",
   "execution_count": null,
   "metadata": {
    "vscode": {
     "languageId": "sql"
    }
   },
   "outputs": [],
   "source": [
    "CREATE DATABASE shop;"
   ]
  },
  {
   "cell_type": "markdown",
   "metadata": {},
   "source": [
    "Создание БД с проверкой на существование"
   ]
  },
  {
   "cell_type": "code",
   "execution_count": null,
   "metadata": {
    "vscode": {
     "languageId": "sql"
    }
   },
   "outputs": [],
   "source": [
    "CREATE DATABASE IF NOT EXISTS shop;"
   ]
  },
  {
   "cell_type": "markdown",
   "metadata": {},
   "source": [
    "Каталог данных"
   ]
  },
  {
   "cell_type": "code",
   "execution_count": null,
   "metadata": {
    "vscode": {
     "languageId": "sql"
    }
   },
   "outputs": [],
   "source": [
    "SHOW VARIABLES LIKE 'datadir';"
   ]
  },
  {
   "cell_type": "markdown",
   "metadata": {},
   "source": [
    "Удаление БД"
   ]
  },
  {
   "cell_type": "code",
   "execution_count": null,
   "metadata": {
    "vscode": {
     "languageId": "sql"
    }
   },
   "outputs": [],
   "source": [
    "DROP DATABASE shop;"
   ]
  },
  {
   "cell_type": "markdown",
   "metadata": {},
   "source": [
    "Удаление БД с проверкой на существование"
   ]
  },
  {
   "cell_type": "code",
   "execution_count": null,
   "metadata": {
    "vscode": {
     "languageId": "sql"
    }
   },
   "outputs": [],
   "source": [
    "DROP DATABASE IF EXISTS shop;"
   ]
  },
  {
   "cell_type": "markdown",
   "metadata": {},
   "source": [
    "Выбрать БД по умолчанию"
   ]
  },
  {
   "cell_type": "code",
   "execution_count": null,
   "metadata": {
    "vscode": {
     "languageId": "sql"
    }
   },
   "outputs": [],
   "source": [
    "USE shop"
   ]
  },
  {
   "cell_type": "markdown",
   "metadata": {},
   "source": [
    "Можно не указывать USE, но тогда нужно всегда писать FROM"
   ]
  },
  {
   "cell_type": "code",
   "execution_count": null,
   "metadata": {
    "vscode": {
     "languageId": "sql"
    }
   },
   "outputs": [],
   "source": [
    "SHOW TABLES FROM shop"
   ]
  },
  {
   "cell_type": "markdown",
   "metadata": {},
   "source": [
    "Можно подключиться сразу к БД:"
   ]
  },
  {
   "cell_type": "code",
   "execution_count": null,
   "metadata": {
    "vscode": {
     "languageId": "shellscript"
    }
   },
   "outputs": [],
   "source": [
    "mysql shop"
   ]
  },
  {
   "cell_type": "markdown",
   "metadata": {},
   "source": [
    "### Основные команды с таблицами"
   ]
  },
  {
   "cell_type": "markdown",
   "metadata": {},
   "source": [
    "Создание таблиц"
   ]
  },
  {
   "cell_type": "code",
   "execution_count": null,
   "metadata": {
    "vscode": {
     "languageId": "sql"
    }
   },
   "outputs": [],
   "source": [
    "CREATE TABLE users (k INT);"
   ]
  },
  {
   "cell_type": "markdown",
   "metadata": {},
   "source": [
    "Показать все таблицы в БД"
   ]
  },
  {
   "cell_type": "code",
   "execution_count": null,
   "metadata": {
    "vscode": {
     "languageId": "sql"
    }
   },
   "outputs": [],
   "source": [
    "SHOW TABLES;"
   ]
  },
  {
   "cell_type": "markdown",
   "metadata": {},
   "source": [
    "Подробный вывод для конкретной таблицы"
   ]
  },
  {
   "cell_type": "code",
   "execution_count": null,
   "metadata": {
    "vscode": {
     "languageId": "sql"
    }
   },
   "outputs": [],
   "source": [
    "DESCRIBE user;"
   ]
  },
  {
   "cell_type": "markdown",
   "metadata": {},
   "source": [
    "Подробный вывод для интересующего столбца таблицы"
   ]
  },
  {
   "cell_type": "code",
   "execution_count": null,
   "metadata": {
    "vscode": {
     "languageId": "sql"
    }
   },
   "outputs": [],
   "source": [
    "DESCRIBE user 'User';"
   ]
  },
  {
   "cell_type": "markdown",
   "metadata": {},
   "source": [
    "Подробный вывод столбцов таблицы, начинающихся на m"
   ]
  },
  {
   "cell_type": "code",
   "execution_count": null,
   "metadata": {
    "vscode": {
     "languageId": "sql"
    }
   },
   "outputs": [],
   "source": [
    "DESCRIBE user 'm%';"
   ]
  },
  {
   "cell_type": "markdown",
   "metadata": {},
   "source": [
    "***Примечание**: SHOW и DESCRIBE являются не стандартными, другие БД их могут не иметь.*\n",
    "\n",
    "Поэтому всегда можно воспользоваться стандартными средствами:"
   ]
  },
  {
   "cell_type": "code",
   "execution_count": null,
   "metadata": {
    "vscode": {
     "languageId": "sql"
    }
   },
   "outputs": [],
   "source": [
    "SELECT * FROM information_schema.SCHEMA; --information_schema - виртуальная БД"
   ]
  },
  {
   "cell_type": "markdown",
   "metadata": {},
   "source": [
    "Вывод таблицы"
   ]
  },
  {
   "cell_type": "code",
   "execution_count": null,
   "metadata": {
    "vscode": {
     "languageId": "sql"
    }
   },
   "outputs": [],
   "source": [
    "SELECT * FROM information_schema.TABLESWHERE TABLE_SCHEMA ='shop'\\G; -- \\G только в mysql"
   ]
  },
  {
   "cell_type": "markdown",
   "metadata": {},
   "source": [
    "## 02. Язык SQL\n",
    "\n",
    "SQL - Structured Query Language"
   ]
  },
  {
   "cell_type": "markdown",
   "metadata": {},
   "source": [
    "### Достоинства SQL\n",
    "\n",
    "* Декларативый язык. Описываем цель, а не инструкцию алгоритма;\n",
    "* Высокоуровнева структура, напоминающая естественный язык;\n",
    "* Высокая эффективность обработки множеств;\n",
    "* Независимость от конкретных СУБД;\n",
    "* Межплатформенная переносимость;\n",
    "* Наличие стандартов."
   ]
  },
  {
   "cell_type": "markdown",
   "metadata": {},
   "source": [
    "### Недостатки SQL\n",
    "\n",
    "* Слабоструктурированный язык;\n",
    "* Старый язык. С современной точки зрения он не очень удобен;\n",
    "* Плохое взаимодействие с ООП-языками;\n",
    "* Не универсальный язык. Нельзя создать независимую программу;\n",
    "* Множество диалектов."
   ]
  },
  {
   "cell_type": "markdown",
   "metadata": {},
   "source": [
    "### Элементы языка\n",
    "\n",
    "* Коментарии\n",
    "* Скалярные выражения (константы)\n",
    "* Ключевые слова\n",
    "* Операторы\n",
    "* Таблицы\n",
    "* Столбцы\n",
    "* Индексы\n",
    "* Предопределенные функции\n",
    "* Представления\n",
    "* Переменные\n",
    "* Хранимые процедуры\n",
    "* Хранимые функции\n",
    "* Триггеры\n",
    "* Коды ошибок"
   ]
  },
  {
   "cell_type": "markdown",
   "metadata": {},
   "source": [
    "### Коментарии"
   ]
  },
  {
   "cell_type": "markdown",
   "metadata": {},
   "source": [
    "Однострочные"
   ]
  },
  {
   "cell_type": "code",
   "execution_count": null,
   "metadata": {
    "vscode": {
     "languageId": "sql"
    }
   },
   "outputs": [],
   "source": [
    "-- Это однострочный комментарий"
   ]
  },
  {
   "cell_type": "markdown",
   "metadata": {},
   "source": [
    "Многострочные"
   ]
  },
  {
   "cell_type": "code",
   "execution_count": null,
   "metadata": {
    "vscode": {
     "languageId": "sql"
    }
   },
   "outputs": [],
   "source": [
    "/* Многострочный\n",
    "комментарий */"
   ]
  },
  {
   "cell_type": "markdown",
   "metadata": {},
   "source": [
    "### Инструкции\n",
    "\n",
    "**DDL (Data Definition Language)** - язык описания данных. Инфструкции создания, редактирования и удаления БД и таблиц. Опреаторы, позволяющие воссоздать структуру БД.\n",
    "\n",
    "**DML (Data Manipulation Language)** - язык управления данными. Инфструкции создания, редактирования, удаления и извлечения данных из таблиц. Операторы, обслуживающие данные, хранящиеся в БД.\n",
    "\n",
    "Каждая инструкция начинается с ключевого слова, которая описывает выполняемые дейтсвия."
   ]
  },
  {
   "cell_type": "markdown",
   "metadata": {},
   "source": [
    "### Типы данных\n",
    "\n",
    "Тип данных определяет характеристики значений и количество памяти, выделяемой под хранение.\n",
    "\n",
    "* Числовые\n",
    "* Строковые\n",
    "* NULL\n",
    "* Календарные\n",
    "* Коллекции"
   ]
  },
  {
   "cell_type": "markdown",
   "metadata": {},
   "source": [
    "Типы могут сопровождаться дополнительными атрибутами, которые задают ограничение на столбец:\n",
    "\n",
    "* NULL (позволяет неопределенные значения) или NOT NULL (запрещает неопределенные значения)\n",
    "* DEFAULT (позволяет задать значение по умолчанию)\n",
    "* UNSIGNED (беззнаковое числовое поле)"
   ]
  },
  {
   "cell_type": "markdown",
   "metadata": {},
   "source": [
    "**Числовые типы:**\n",
    "\n",
    "* Целочисленные (быстрая обработка) TINYINT (1 байт), SMALLINT (2 байта), MEDIUMINT (3 байта), INT (4 байта), BIGINT (8 байт)\n",
    "* Вещественные (средняя обработка) FLOAT (4 байта), DOUBLE (8 байт)\n",
    "* Точные (медленная обработка) DECIMAL (зависит от объявления). DECIMAL(7,4) 7 байт под целую часть, 4 байта под дробную часть"
   ]
  },
  {
   "cell_type": "markdown",
   "metadata": {},
   "source": [
    "**Строковые типы:**\n",
    "\n",
    "* Фиксированные CHAR (40 символов по умолчанию)\n",
    "* Переменные VARCHAR (ровно по количеству символов)\n",
    "* BLOB-строка TINYTEXT (256 символов), TEXT (65536 символов), MEDIUMTEXT (16777216/16МБ), LONGTEXT (4294967296/4ГБ)"
   ]
  },
  {
   "cell_type": "markdown",
   "metadata": {},
   "source": [
    "**Календарные типы:**\n",
    "\n",
    "* TIME - хранение времени в течении суток\n",
    "* YEAR - хранит год\n",
    "* DATE - хранит дату с точностью до дня\n",
    "* DATETIME - хранит дату и время\n",
    "* TIMESTAMP - хранит дату и время (1970 - 2038)"
   ]
  },
  {
   "cell_type": "markdown",
   "metadata": {},
   "source": [
    "| Тип    | Формат          | Кол-во байт |\n",
    "| --------- | --------------------- | -------------------- |\n",
    "| YEAR      | 0000                  | 1                    |\n",
    "| DATE      | '0000-00-00'          | 3                    |\n",
    "| TIME      | '00:00:00'            | 3                    |\n",
    "| DATETIME  | '0000-00-00 00:00:00' | 4                    |\n",
    "| TIMESTAMP | '0000-00-00 00:00:00' | 8                    |"
   ]
  },
  {
   "cell_type": "markdown",
   "metadata": {},
   "source": [
    "**Особые типы данных**\n",
    "\n",
    "* ENUM - поле принимает одно значение из списка\n",
    "* SET - поле принимает комбинацию значений из списка\n",
    "* JSON - коллекция данных (похожи на словари python)"
   ]
  },
  {
   "cell_type": "markdown",
   "metadata": {},
   "source": [
    "**Индексы**\n",
    "\n",
    "* Обычные\n",
    "* Уникальные, первичный ключ\n",
    "* Полнотекстовый"
   ]
  },
  {
   "cell_type": "markdown",
   "metadata": {},
   "source": [
    "Создать индекс внутри таблицы:"
   ]
  },
  {
   "cell_type": "code",
   "execution_count": null,
   "metadata": {
    "vscode": {
     "languageId": "sql"
    }
   },
   "outputs": [],
   "source": [
    "CREATE TABLE products (\n",
    "    ...\n",
    "    KEY index_of_catalog_id(catalog_id);\n",
    ")"
   ]
  },
  {
   "cell_type": "markdown",
   "metadata": {},
   "source": [
    "Создать индексы в уже существующую таблицу:"
   ]
  },
  {
   "cell_type": "code",
   "execution_count": null,
   "metadata": {
    "vscode": {
     "languageId": "sql"
    }
   },
   "outputs": [],
   "source": [
    "CREATE INDEX index_of_catalog_id ON products(catalog_id);"
   ]
  },
  {
   "cell_type": "markdown",
   "metadata": {},
   "source": [
    "Убрать индексы из таблицы:"
   ]
  },
  {
   "cell_type": "code",
   "execution_count": null,
   "metadata": {
    "vscode": {
     "languageId": "sql"
    }
   },
   "outputs": [],
   "source": [
    "DROP INDEX index_of_catalog_id ON products;"
   ]
  },
  {
   "cell_type": "markdown",
   "metadata": {},
   "source": [
    "Индексы BTREE - индекы в виде бинарного дерева. Быстрый поиск."
   ]
  },
  {
   "cell_type": "code",
   "execution_count": null,
   "metadata": {
    "vscode": {
     "languageId": "sql"
    }
   },
   "outputs": [],
   "source": [
    "CREATE INDEX index_of_catalog_id USING BTREE ON products(catalog_id);"
   ]
  },
  {
   "cell_type": "markdown",
   "metadata": {},
   "source": [
    "Индексы HASH - только для точного поиска с указанием всех столбцов-индексов."
   ]
  },
  {
   "cell_type": "code",
   "execution_count": null,
   "metadata": {
    "vscode": {
     "languageId": "sql"
    }
   },
   "outputs": [],
   "source": [
    "CREATE INDEX index_of_catalog_id USING HASH ON products(catalog_id);"
   ]
  },
  {
   "cell_type": "markdown",
   "metadata": {},
   "source": [
    "**Псевдотип SERIAL**\n",
    "\n",
    "SERIAL == BIGINT UNSIGNED NOT NULL AUTO_INCREMENT UNIQUE"
   ]
  },
  {
   "cell_type": "markdown",
   "metadata": {},
   "source": [
    "## 03. Операции CRUD\n",
    "\n",
    "| CRUD             | SQL    |\n",
    "| ---------------- | ------ |\n",
    "| **C**reate | INSERT |\n",
    "| **R**ead   | SELECT |\n",
    "| **U**pdate | UPDATE |\n",
    "| **D**elete | DELETE |"
   ]
  },
  {
   "cell_type": "markdown",
   "metadata": {},
   "source": [
    "**Создание значений**"
   ]
  },
  {
   "cell_type": "code",
   "execution_count": null,
   "metadata": {
    "vscode": {
     "languageId": "sql"
    }
   },
   "outputs": [],
   "source": [
    "INSERT INTO catalogs (name) VALUES ('Процессоры');\n",
    "INSERT INTO catalogs (name) VALUES ('Мат.платы');\n",
    "INSERT INTO catalogs (name) VALUES ('Видеокарты');"
   ]
  },
  {
   "cell_type": "markdown",
   "metadata": {},
   "source": [
    "Многострочная вставка"
   ]
  },
  {
   "cell_type": "code",
   "execution_count": null,
   "metadata": {
    "vscode": {
     "languageId": "sql"
    }
   },
   "outputs": [],
   "source": [
    "INSERT INTO catalogs VALUES\n",
    "\t(NULL, 'Процессоры'),\n",
    "\t(NULL, 'Мат.платы'),\n",
    "\t(NULL, 'Видеокарты');"
   ]
  },
  {
   "cell_type": "markdown",
   "metadata": {},
   "source": [
    "Если нужно, чтобы не было повторяющихся значений в столбце, то можно сделать егшо уникальным."
   ]
  },
  {
   "cell_type": "code",
   "execution_count": null,
   "metadata": {
    "vscode": {
     "languageId": "sql"
    }
   },
   "outputs": [],
   "source": [
    "CREATE TABLE catalogs (\n",
    "\t...\n",
    "\tUNIQUE unique_name(name(10))\n",
    ")"
   ]
  },
  {
   "cell_type": "markdown",
   "metadata": {},
   "source": [
    "В этом случае при добавлении уже имеющегося значения, появится ошибка. Ошибку можно игнорировать:"
   ]
  },
  {
   "cell_type": "code",
   "execution_count": null,
   "metadata": {
    "vscode": {
     "languageId": "sql"
    }
   },
   "outputs": [],
   "source": [
    "INSERT IGNORE INTO catalogs VALUES \n",
    "\t(DEFAULT, 'Процессоры'),\n",
    "\t(DEFAULT, 'Мат.платы'),\n",
    "\t(DEFAULT, 'Видеокарты'),\n",
    "\t(DEFAULT, 'Видеокарты');"
   ]
  },
  {
   "cell_type": "markdown",
   "metadata": {},
   "source": [
    "**Чтение значений**"
   ]
  },
  {
   "cell_type": "code",
   "execution_count": null,
   "metadata": {
    "vscode": {
     "languageId": "sql"
    }
   },
   "outputs": [],
   "source": [
    "SELECT id, name FROM catalogs;\n",
    "SELECT name FROM catalogs;\n",
    "SELECT * FROM catalogs;"
   ]
  },
  {
   "cell_type": "markdown",
   "metadata": {},
   "source": [
    "**Удаление значений**"
   ]
  },
  {
   "cell_type": "markdown",
   "metadata": {},
   "source": [
    "Удаление данных. Счётчик автоинкремента не обнуляется"
   ]
  },
  {
   "cell_type": "code",
   "execution_count": null,
   "metadata": {
    "vscode": {
     "languageId": "sql"
    }
   },
   "outputs": [],
   "source": [
    "DELETE FROM catalogs; -- удаляет все записи\n",
    "DELETE FROM catalogs LIMIT 2; -- удаляет первые записи\n",
    "DELETE FROM catalogs WHERE id > 1; -- удаляет записи, id которых больше 1\n",
    "DELETE FROM catalogs WHERE id > 1 LIMIT 1; -- удаляет одну запись, id которой больше 1"
   ]
  },
  {
   "cell_type": "markdown",
   "metadata": {},
   "source": [
    "Очистка всей таблицы и обнуление счётчика автоинкримента"
   ]
  },
  {
   "cell_type": "code",
   "execution_count": null,
   "metadata": {
    "vscode": {
     "languageId": "sql"
    }
   },
   "outputs": [],
   "source": [
    "TURNCATE catalogs;"
   ]
  },
  {
   "cell_type": "markdown",
   "metadata": {},
   "source": [
    "**Обновление значений**"
   ]
  },
  {
   "cell_type": "code",
   "execution_count": null,
   "metadata": {
    "vscode": {
     "languageId": "sql"
    }
   },
   "outputs": [],
   "source": [
    "UPDATE\n",
    "  catalogs\n",
    "SET\n",
    "  name = 'Процессоры (Intel)'\n",
    "WHERE\n",
    "  name = 'Процессоры'"
   ]
  },
  {
   "cell_type": "markdown",
   "metadata": {},
   "source": [
    "**INSERT-SELECT**"
   ]
  },
  {
   "cell_type": "code",
   "execution_count": null,
   "metadata": {
    "vscode": {
     "languageId": "sql"
    }
   },
   "outputs": [],
   "source": [
    "INSERT INTO\n",
    "  cat\n",
    "SELECT\n",
    "  *\n",
    "FROM\n",
    "  catalogs;\n",
    "\n",
    "SELECT * FROM cat;"
   ]
  }
 ],
 "metadata": {
  "kernelspec": {
   "display_name": "Python 3",
   "language": "python",
   "name": "python3"
  },
  "language_info": {
   "codemirror_mode": {
    "name": "ipython",
    "version": 3
   },
   "file_extension": ".py",
   "mimetype": "text/x-python",
   "name": "python",
   "nbconvert_exporter": "python",
   "pygments_lexer": "ipython3",
   "version": "3.11.4"
  },
  "orig_nbformat": 4
 },
 "nbformat": 4,
 "nbformat_minor": 2
}
